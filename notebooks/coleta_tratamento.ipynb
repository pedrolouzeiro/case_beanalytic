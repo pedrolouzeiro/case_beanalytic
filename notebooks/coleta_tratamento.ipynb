{
 "cells": [
  {
   "cell_type": "markdown",
   "id": "ec1e4735-6fb6-4984-a6e4-98ec23c0b4ef",
   "metadata": {},
   "source": [
    "# Coleta e tratamento de dados"
   ]
  },
  {
   "cell_type": "code",
   "execution_count": 1,
   "id": "44364746-862e-4943-8a50-b94f0564cf10",
   "metadata": {
    "tags": []
   },
   "outputs": [],
   "source": [
    "import requests\n",
    "import pandas as pd\n",
    "\n",
    "def buscar(url):\n",
    "    \"\"\"\n",
    "    Busca dados do SIDRA sobre empresas de construção por território\n",
    "    \n",
    "    \"\"\"    \n",
    "    response = requests.get(url)\n",
    "    if response.status_code == 200:        \n",
    "        # Se a solicitação for bem-sucedida, formata e retorna os dados\n",
    "        dados = response.json()\n",
    "        df = pd.DataFrame(dados)\n",
    "        df = df[['D1N','D2N','V']]\n",
    "        df.columns = ['ano', 'territorio', 'num_empresas']\n",
    "        return df\n",
    "    else:\n",
    "        #Se não retona mensagem de erro\n",
    "        raise Exception(\"Erro ao buscar dados do SIDRA\")"
   ]
  },
  {
   "cell_type": "code",
   "execution_count": 2,
   "id": "7a4b0224-3064-4c14-b8a9-67e28f686377",
   "metadata": {
    "tags": []
   },
   "outputs": [],
   "source": [
    "dados_regioes = buscar(\"https://apisidra.ibge.gov.br/values/t/1757/p/2007-2020/n2/all/v/410/h/n\")"
   ]
  },
  {
   "cell_type": "code",
   "execution_count": 3,
   "id": "4261b767-bbd4-4409-a841-6eed40a02151",
   "metadata": {
    "tags": []
   },
   "outputs": [],
   "source": [
    "caminho_pop = '../data/raw/pop.xlsx'\n",
    "regioes = ['Norte', 'Nordeste', 'Sudeste', 'Sul', 'Centro-Oeste']\n",
    "idades = list(range(38, 59))\n",
    "anos = list(range(2007, 2021))\n",
    "\n",
    "def processar_dados_populacao(caminho_arquivo_pop, df_empresas, regioes, idades, anos):\n",
    "    \"\"\"\n",
    "    Processa os dados de população e empresas, calculando a razão população/empresas.\n",
    "    \n",
    "    Parâmetros:\n",
    "        caminho_arquivo_pop (str): Caminho do arquivo Excel com dados de população.\n",
    "        df_empresas (pd.DataFrame): DataFrame com dados de empresas.\n",
    "        regioes (list): Lista de regiões de interesse.\n",
    "        idades (list): Lista de idades de interesse.\n",
    "        anos (list): Lista de anos de interesse.\n",
    "    \n",
    "    Retorna:\n",
    "        pd.DataFrame: DataFrame processado com a razão população/empresas.\n",
    "    \"\"\"\n",
    "    # Ler os dados da população\n",
    "    dados_pop = pd.read_excel(caminho_arquivo_pop, skiprows=5)\n",
    "    \n",
    "    # Filtrar os dados\n",
    "    dados_filtrados = dados_pop[(dados_pop['LOCAL'].isin(regioes)) & (dados_pop['IDADE'].isin(idades))]\n",
    "    \n",
    "    # Selecionar colunas de interesse\n",
    "    dados_filtrados = dados_filtrados[['IDADE', 'LOCAL'] + anos]\n",
    "    \n",
    "    # Transformar de formato largo para longo\n",
    "    df_pop = dados_filtrados.melt(id_vars=[\"IDADE\", \"LOCAL\"], var_name=\"ano\", value_name=\"populacao\")\n",
    "    \n",
    "    # Converter colunas para o tipo adequado\n",
    "    df_pop[\"ano\"] = df_pop[\"ano\"].astype(int)\n",
    "    \n",
    "    # Agrupar por ano e região, somando a população filtrada\n",
    "    df_pop = df_pop.groupby([\"ano\", \"LOCAL\"])[\"populacao\"].sum().reset_index()\n",
    "    \n",
    "    # Renomear a coluna LOCAL para territorio\n",
    "    df_pop.rename(columns={\"LOCAL\": \"territorio\"}, inplace=True)\n",
    "    \n",
    "    # Converter colunas para o tipo adequado\n",
    "    df_empresas[\"ano\"] = df_empresas[\"ano\"].astype(int)\n",
    "    df_empresas[\"num_empresas\"] = df_empresas[\"num_empresas\"].astype(int)\n",
    "    \n",
    "    # Unir os DataFrames pela coluna \"ano\" e \"territorio\"\n",
    "    df_final = pd.merge(df_empresas, df_pop, on=[\"ano\", \"territorio\"], how=\"inner\")\n",
    "    \n",
    "    # Criar a razão da população pela quantidade de empresas\n",
    "    df_final[\"razao_pop_empresa\"] = df_final[\"populacao\"] / df_final[\"num_empresas\"]\n",
    "    \n",
    "    return df_final"
   ]
  },
  {
   "cell_type": "code",
   "execution_count": 4,
   "id": "00bd71ff-4b69-4583-a921-b82ca0be16fd",
   "metadata": {
    "tags": []
   },
   "outputs": [],
   "source": [
    "df_resultado = processar_dados_populacao(caminho_pop, dados_regioes, regioes, idades, anos)"
   ]
  },
  {
   "cell_type": "code",
   "execution_count": 5,
   "id": "905a960a-fce1-448c-87d8-ce157254deed",
   "metadata": {
    "tags": []
   },
   "outputs": [],
   "source": [
    "df_resultado.to_csv('../data/processed/pronto.csv', index=False)"
   ]
  }
 ],
 "metadata": {
  "kernelspec": {
   "display_name": "Python 3 (ipykernel)",
   "language": "python",
   "name": "python3"
  },
  "language_info": {
   "codemirror_mode": {
    "name": "ipython",
    "version": 3
   },
   "file_extension": ".py",
   "mimetype": "text/x-python",
   "name": "python",
   "nbconvert_exporter": "python",
   "pygments_lexer": "ipython3",
   "version": "3.11.7"
  }
 },
 "nbformat": 4,
 "nbformat_minor": 5
}
